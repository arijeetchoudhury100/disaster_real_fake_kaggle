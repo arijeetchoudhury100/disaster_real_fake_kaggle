{
  "nbformat": 4,
  "nbformat_minor": 0,
  "metadata": {
    "colab": {
      "name": "disaster_kaggle",
      "provenance": [],
      "collapsed_sections": [],
      "mount_file_id": "1S5UF5F-glqto7QA8uAS5mHHC4Aw3fPBW",
      "authorship_tag": "ABX9TyM0Sz/DSv0kRD8SjFAdxpyB",
      "include_colab_link": true
    },
    "kernelspec": {
      "name": "python3",
      "display_name": "Python 3"
    }
  },
  "cells": [
    {
      "cell_type": "markdown",
      "metadata": {
        "id": "view-in-github",
        "colab_type": "text"
      },
      "source": [
        "<a href=\"https://colab.research.google.com/github/arijeetchoudhury100/disaster_real_fake_kaggle/blob/master/disaster_kaggle.ipynb\" target=\"_parent\"><img src=\"https://colab.research.google.com/assets/colab-badge.svg\" alt=\"Open In Colab\"/></a>"
      ]
    },
    {
      "cell_type": "code",
      "metadata": {
        "id": "8fUffqiOA_He",
        "colab_type": "code",
        "outputId": "17dda3b1-f39e-4b5d-c5b2-7321dae8d6af",
        "colab": {
          "base_uri": "https://localhost:8080/",
          "height": 181
        }
      },
      "source": [
        "!pip install demoji"
      ],
      "execution_count": 0,
      "outputs": [
        {
          "output_type": "stream",
          "text": [
            "Requirement already satisfied: demoji in /usr/local/lib/python3.6/dist-packages (0.2.1)\n",
            "Requirement already satisfied: colorama in /usr/local/lib/python3.6/dist-packages (from demoji) (0.4.3)\n",
            "Requirement already satisfied: setuptools in /usr/local/lib/python3.6/dist-packages (from demoji) (46.3.0)\n",
            "Requirement already satisfied: requests<3.0.0 in /usr/local/lib/python3.6/dist-packages (from demoji) (2.23.0)\n",
            "Requirement already satisfied: certifi>=2017.4.17 in /usr/local/lib/python3.6/dist-packages (from requests<3.0.0->demoji) (2020.4.5.1)\n",
            "Requirement already satisfied: urllib3!=1.25.0,!=1.25.1,<1.26,>=1.21.1 in /usr/local/lib/python3.6/dist-packages (from requests<3.0.0->demoji) (1.24.3)\n",
            "Requirement already satisfied: idna<3,>=2.5 in /usr/local/lib/python3.6/dist-packages (from requests<3.0.0->demoji) (2.9)\n",
            "Requirement already satisfied: chardet<4,>=3.0.2 in /usr/local/lib/python3.6/dist-packages (from requests<3.0.0->demoji) (3.0.4)\n"
          ],
          "name": "stdout"
        }
      ]
    },
    {
      "cell_type": "code",
      "metadata": {
        "id": "HE2qqnIXIOP3",
        "colab_type": "code",
        "colab": {}
      },
      "source": [
        "import pandas as pd\n",
        "import numpy as np\n",
        "import matplotlib.pyplot as plt\n",
        "import demoji\n",
        "import re\n",
        "import string\n",
        "from tensorflow import keras\n",
        "from keras.preprocessing.text import Tokenizer\n",
        "from keras.preprocessing.sequence import pad_sequences\n",
        "from keras.models import Sequential\n",
        "from keras.layers import Dense,LSTM,Embedding,Bidirectional,Dropout,SpatialDropout1D"
      ],
      "execution_count": 0,
      "outputs": []
    },
    {
      "cell_type": "code",
      "metadata": {
        "id": "gutWHRt7IHkV",
        "colab_type": "code",
        "colab": {}
      },
      "source": [
        "def clean_tweets(tweet):\n",
        "  #convert to lower case\n",
        "  tweet = tweet.strip().lower()\n",
        "  #remove http links\n",
        "  tweet = re.sub('https?://\\S+','',tweet)\n",
        "  #remove html tags\n",
        "  tweet = re.sub('<.*?>','',tweet)\n",
        "  #remove hashtags\n",
        "  tweet = re.sub('#','',tweet)\n",
        "  return tweet"
      ],
      "execution_count": 0,
      "outputs": []
    },
    {
      "cell_type": "code",
      "metadata": {
        "id": "1MsjFU21AWl_",
        "colab_type": "code",
        "outputId": "c4ea4e38-9b32-49e7-fd84-3db70fe80d02",
        "colab": {
          "base_uri": "https://localhost:8080/",
          "height": 161
        }
      },
      "source": [
        "tweets_train = pd.read_csv('train.csv')\n",
        "tweets_test = pd.read_csv('test.csv')\n",
        "print(tweets_train.head())"
      ],
      "execution_count": 0,
      "outputs": [
        {
          "output_type": "stream",
          "text": [
            "   id keyword  ...                                               text target\n",
            "0   1     NaN  ...  Our Deeds are the Reason of this #earthquake M...      1\n",
            "1   4     NaN  ...             Forest fire near La Ronge Sask. Canada      1\n",
            "2   5     NaN  ...  All residents asked to 'shelter in place' are ...      1\n",
            "3   6     NaN  ...  13,000 people receive #wildfires evacuation or...      1\n",
            "4   7     NaN  ...  Just got sent this photo from Ruby #Alaska as ...      1\n",
            "\n",
            "[5 rows x 5 columns]\n"
          ],
          "name": "stdout"
        }
      ]
    },
    {
      "cell_type": "code",
      "metadata": {
        "id": "gpy_Ln_KA4T2",
        "colab_type": "code",
        "outputId": "b9ff7748-46bf-4d0b-e82b-4bc4c261d38f",
        "colab": {
          "base_uri": "https://localhost:8080/",
          "height": 53
        }
      },
      "source": [
        "print(\"total no. of training samples:\",len(tweets_train))\n",
        "print(\"total np. of testing samples:\",len(tweets_test))"
      ],
      "execution_count": 0,
      "outputs": [
        {
          "output_type": "stream",
          "text": [
            "total no. of training samples: 7613\n",
            "total np. of testing samples: 3263\n"
          ],
          "name": "stdout"
        }
      ]
    },
    {
      "cell_type": "code",
      "metadata": {
        "id": "UaQbbdYmBVpA",
        "colab_type": "code",
        "outputId": "1ab8b053-46ca-45f8-c378-1e11ed3070cc",
        "colab": {
          "base_uri": "https://localhost:8080/",
          "height": 297
        }
      },
      "source": [
        "#check class distribution\n",
        "class_dist = tweets_train['target'].value_counts()\n",
        "sns.barplot(class_dist.index,class_dist)\n",
        "plt.gca().set_xlabel('target')\n",
        "plt.gca().set_ylabel('counts')"
      ],
      "execution_count": 0,
      "outputs": [
        {
          "output_type": "execute_result",
          "data": {
            "text/plain": [
              "Text(0, 0.5, 'counts')"
            ]
          },
          "metadata": {
            "tags": []
          },
          "execution_count": 78
        },
        {
          "output_type": "display_data",
          "data": {
            "image/png": "[encoded data removed]",
            "text/plain": [
              "<Figure size 432x288 with 1 Axes>"
            ]
          },
          "metadata": {
            "tags": [],
            "needs_background": "light"
          }
        }
      ]
    },
    {
      "cell_type": "code",
      "metadata": {
        "id": "IfG8CNowEawq",
        "colab_type": "code",
        "outputId": "ee5228bc-b9a0-45bb-99ea-cb1681b12513",
        "colab": {
          "base_uri": "https://localhost:8080/",
          "height": 161
        }
      },
      "source": [
        "tweets_train['cleaned_text'] = tweets_train['text'].apply(clean_tweets)\n",
        "print(tweets_train.head(5))"
      ],
      "execution_count": 0,
      "outputs": [
        {
          "output_type": "stream",
          "text": [
            "   id keyword  ... target                                       cleaned_text\n",
            "0   1     NaN  ...      1  our deeds are the reason of this earthquake ma...\n",
            "1   4     NaN  ...      1             forest fire near la ronge sask. canada\n",
            "2   5     NaN  ...      1  all residents asked to 'shelter in place' are ...\n",
            "3   6     NaN  ...      1  13,000 people receive wildfires evacuation ord...\n",
            "4   7     NaN  ...      1  just got sent this photo from ruby alaska as s...\n",
            "\n",
            "[5 rows x 6 columns]\n"
          ],
          "name": "stdout"
        }
      ]
    },
    {
      "cell_type": "code",
      "metadata": {
        "id": "E1F4Nlr9JAOe",
        "colab_type": "code",
        "outputId": "a6def17d-d5bc-4670-acf4-050cc1700c3f",
        "colab": {
          "base_uri": "https://localhost:8080/",
          "height": 89
        }
      },
      "source": [
        "demoji.download_codes()"
      ],
      "execution_count": 0,
      "outputs": [
        {
          "output_type": "stream",
          "text": [
            "Downloading emoji data ...\n",
            "... OK (Got response in 0.38 seconds)\n",
            "Writing emoji data to /root/.demoji/codes.json ...\n",
            "... OK\n"
          ],
          "name": "stdout"
        }
      ]
    },
    {
      "cell_type": "code",
      "metadata": {
        "id": "LO3Nf8IWJS_k",
        "colab_type": "code",
        "outputId": "ebc73dbb-c1bf-40d1-c536-4cd0970b0528",
        "colab": {
          "base_uri": "https://localhost:8080/",
          "height": 107
        }
      },
      "source": [
        "#example use of demoji\n",
        "tweet = \"\"\"\\\n",
        "... #startspreadingthenews yankees win great start by 🎅🏾 going 5strong innings with 5k’s🔥 🐂\n",
        "... solo homerun 🌋🌋 with 2 solo homeruns and👹 3run homerun… 🤡 🚣🏼 👨🏽‍⚖️ with rbi’s … 🔥🔥\n",
        "... 🇲🇽 and 🇳🇮 to close the game🔥🔥!!!….\n",
        "... WHAT A GAME!!..\n",
        "... \"\"\"\n",
        "demoji.findall(tweet)\n",
        "tweet = demoji.replace(tweet,'')\n",
        "print(tweet)"
      ],
      "execution_count": 0,
      "outputs": [
        {
          "output_type": "stream",
          "text": [
            "... #startspreadingthenews yankees win great start by  going 5strong innings with 5k’s \n",
            "... solo homerun  with 2 solo homeruns and 3run homerun…    with rbi’s … \n",
            "...  and  to close the game!!!….\n",
            "... WHAT A GAME!!..\n",
            "... \n"
          ],
          "name": "stdout"
        }
      ]
    },
    {
      "cell_type": "code",
      "metadata": {
        "id": "e5AKOoOiJWCc",
        "colab_type": "code",
        "colab": {}
      },
      "source": [
        "def remove_emojis(tweet):\n",
        "  tweet = demoji.replace(tweet,'')\n",
        "  return tweet"
      ],
      "execution_count": 0,
      "outputs": []
    },
    {
      "cell_type": "code",
      "metadata": {
        "id": "Z7KVr661JutT",
        "colab_type": "code",
        "outputId": "1270a291-0edc-495a-ce19-4aeabb11f543",
        "colab": {
          "base_uri": "https://localhost:8080/",
          "height": 107
        }
      },
      "source": [
        "tweets_train['cleaned_text'] = tweets_train['cleaned_text'].apply(remove_emojis)\n",
        "print(tweets_train.head(2))"
      ],
      "execution_count": 0,
      "outputs": [
        {
          "output_type": "stream",
          "text": [
            "   id keyword  ... target                                       cleaned_text\n",
            "0   1     NaN  ...      1  our deeds are the reason of this earthquake ma...\n",
            "1   4     NaN  ...      1             forest fire near la ronge sask. canada\n",
            "\n",
            "[2 rows x 6 columns]\n"
          ],
          "name": "stdout"
        }
      ]
    },
    {
      "cell_type": "code",
      "metadata": {
        "id": "QXTew1ojJ41M",
        "colab_type": "code",
        "colab": {}
      },
      "source": [
        "#remove punctuations\n",
        "#reference: https://stackoverflow.com/questions/34293875/how-to-remove-punctuation-marks-from-a-string-in-python-3-x-using-translate\n",
        "def remove_punctuation(tweet): \n",
        "    # punctuation marks \n",
        "    translator = str.maketrans('','',string.punctuation)\n",
        "    return tweet.translate(translator)"
      ],
      "execution_count": 0,
      "outputs": []
    },
    {
      "cell_type": "code",
      "metadata": {
        "id": "W5chqUWKLJUy",
        "colab_type": "code",
        "outputId": "86531260-1f45-4ef5-9202-334fdec11274",
        "colab": {
          "base_uri": "https://localhost:8080/",
          "height": 107
        }
      },
      "source": [
        "tweets_train['cleaned_text'] = tweets_train['cleaned_text'].apply(remove_punctuation)\n",
        "print(tweets_train.head(2))"
      ],
      "execution_count": 0,
      "outputs": [
        {
          "output_type": "stream",
          "text": [
            "   id keyword  ... target                                       cleaned_text\n",
            "0   1     NaN  ...      1  our deeds are the reason of this earthquake ma...\n",
            "1   4     NaN  ...      1              forest fire near la ronge sask canada\n",
            "\n",
            "[2 rows x 6 columns]\n"
          ],
          "name": "stdout"
        }
      ]
    },
    {
      "cell_type": "code",
      "metadata": {
        "id": "D83od3WGP97X",
        "colab_type": "code",
        "outputId": "494247df-2cce-44de-daee-96f05800292d",
        "colab": {
          "base_uri": "https://localhost:8080/",
          "height": 53
        }
      },
      "source": [
        "#create training set\n",
        "import nltk\n",
        "nltk.download('stopwords')\n",
        "from nltk.corpus import stopwords\n",
        "stopword = stopwords.words('english')\n",
        "data = []\n",
        "for tweet in tweets_train['cleaned_text']:\n",
        "  words = tweet.split()\n",
        "  temp = [word for word in words if word not in stopword and word.isalpha()==1]\n",
        "  data.append(\" \".join(temp))"
      ],
      "execution_count": 0,
      "outputs": [
        {
          "output_type": "stream",
          "text": [
            "[nltk_data] Downloading package stopwords to /root/nltk_data...\n",
            "[nltk_data]   Package stopwords is already up-to-date!\n"
          ],
          "name": "stdout"
        }
      ]
    },
    {
      "cell_type": "code",
      "metadata": {
        "id": "_4gj-o9nX4o_",
        "colab_type": "code",
        "outputId": "9c093067-3c9e-4819-ad1b-9faea18f77ae",
        "colab": {
          "base_uri": "https://localhost:8080/",
          "height": 35
        }
      },
      "source": [
        "print(len(data))"
      ],
      "execution_count": 0,
      "outputs": [
        {
          "output_type": "stream",
          "text": [
            "7613\n"
          ],
          "name": "stdout"
        }
      ]
    },
    {
      "cell_type": "code",
      "metadata": {
        "id": "Tth8fQ3Pc2QF",
        "colab_type": "code",
        "outputId": "ecbad0a2-35d4-4d04-aae1-5ccee49fa5c7",
        "colab": {
          "base_uri": "https://localhost:8080/",
          "height": 35
        }
      },
      "source": [
        "labels = tweets_train['target'].values\n",
        "print(len(labels))"
      ],
      "execution_count": 0,
      "outputs": [
        {
          "output_type": "stream",
          "text": [
            "7613\n"
          ],
          "name": "stdout"
        }
      ]
    },
    {
      "cell_type": "code",
      "metadata": {
        "id": "e2wp6EmAhHZg",
        "colab_type": "code",
        "outputId": "3bd8bf58-5e62-49ec-fdca-37e145712f92",
        "colab": {
          "base_uri": "https://localhost:8080/",
          "height": 35
        }
      },
      "source": [
        "tokenizer = Tokenizer()\n",
        "tokenizer.fit_on_texts(data)\n",
        "word_to_index = tokenizer.word_index\n",
        "vocab_size = len(word_to_index)\n",
        "print('total no. of words:',vocab_size)"
      ],
      "execution_count": 110,
      "outputs": [
        {
          "output_type": "stream",
          "text": [
            "total no. of words: 16117\n"
          ],
          "name": "stdout"
        }
      ]
    },
    {
      "cell_type": "code",
      "metadata": {
        "id": "Jn_ZriWShy1S",
        "colab_type": "code",
        "outputId": "826e1607-fe29-490a-8a7f-3da247d12322",
        "colab": {
          "base_uri": "https://localhost:8080/",
          "height": 35
        }
      },
      "source": [
        "#convert text to sequence of tokens\n",
        "sequences = tokenizer.texts_to_sequences(data)\n",
        "max_len = max([len(s) for s in sequences])\n",
        "print('max sequence length =',max_len)\n",
        "#pad the sequences\n",
        "padded_sequences =  pad_sequences(sequences,maxlen=max_len,padding='post')"
      ],
      "execution_count": 0,
      "outputs": [
        {
          "output_type": "stream",
          "text": [
            "max sequence length = 23\n"
          ],
          "name": "stdout"
        }
      ]
    },
    {
      "cell_type": "code",
      "metadata": {
        "id": "kJsb6V37iipI",
        "colab_type": "code",
        "colab": {}
      },
      "source": [
        "def load_glove(path):\n",
        "  word_to_embedding = {}\n",
        "  with open(path) as fh:\n",
        "    for line in fh:\n",
        "      line = line.strip().split()\n",
        "      word = line[0]\n",
        "      word_to_embedding[word] = np.array(line[1:],dtype = 'float32')\n",
        "  return word_to_embedding"
      ],
      "execution_count": 0,
      "outputs": []
    },
    {
      "cell_type": "code",
      "metadata": {
        "id": "r0A0PmG6oBsO",
        "colab_type": "code",
        "colab": {
          "base_uri": "https://localhost:8080/",
          "height": 35
        },
        "outputId": "e683ef11-59f7-4639-f43d-179f6aa629c3"
      },
      "source": [
        "word_to_embedding = load_glove('drive/My Drive/glove.6B.50d.txt')\n",
        "print(len(word_to_embedding))"
      ],
      "execution_count": 109,
      "outputs": [
        {
          "output_type": "stream",
          "text": [
            "400000\n"
          ],
          "name": "stdout"
        }
      ]
    },
    {
      "cell_type": "code",
      "metadata": {
        "id": "lY-c603sobFp",
        "colab_type": "code",
        "colab": {}
      },
      "source": [
        "#create embedding matrix\n",
        "def create_embedding(word_to_embedding,vocab_size,word_index,embed_dim):\n",
        "  embeddings = np.zeros((vocab_size+1,embed_dim))\n",
        "  for word,idx in word_index.items():\n",
        "    embed_vec = word_to_embedding.get(word)\n",
        "    if embed_vec is not None:\n",
        "      embeddings[idx,:] = embed_vec\n",
        "  return embeddings"
      ],
      "execution_count": 0,
      "outputs": []
    },
    {
      "cell_type": "code",
      "metadata": {
        "id": "2dcgOGHsrXRl",
        "colab_type": "code",
        "colab": {
          "base_uri": "https://localhost:8080/",
          "height": 35
        },
        "outputId": "14973b38-c9f3-458f-cae8-a2e61d0d99cb"
      },
      "source": [
        "embed_dim = 50\n",
        "embed_matrix = create_embedding(word_to_embedding,vocab_size,word_to_index,embed_dim)\n",
        "print(embed_matrix.shape)"
      ],
      "execution_count": 112,
      "outputs": [
        {
          "output_type": "stream",
          "text": [
            "(16118, 50)\n"
          ],
          "name": "stdout"
        }
      ]
    },
    {
      "cell_type": "code",
      "metadata": {
        "id": "2FZVj5NJr0ZX",
        "colab_type": "code",
        "colab": {}
      },
      "source": [
        ""
      ],
      "execution_count": 0,
      "outputs": []
    }
  ]
}