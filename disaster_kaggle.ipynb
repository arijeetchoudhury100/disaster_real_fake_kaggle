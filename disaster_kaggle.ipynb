{
  "nbformat": 4,
  "nbformat_minor": 0,
  "metadata": {
    "colab": {
      "name": "disaster_kaggle",
      "provenance": [],
      "collapsed_sections": [],
      "mount_file_id": "1S5UF5F-glqto7QA8uAS5mHHC4Aw3fPBW",
      "authorship_tag": "ABX9TyN5uNi5q8rE29JKRMngwmBM",
      "include_colab_link": true
    },
    "kernelspec": {
      "name": "python3",
      "display_name": "Python 3"
    },
    "accelerator": "GPU"
  },
  "cells": [
    {
      "cell_type": "markdown",
      "metadata": {
        "id": "view-in-github",
        "colab_type": "text"
      },
      "source": [
        "<a href=\"https://colab.research.google.com/github/arijeetchoudhury100/disaster_real_fake_kaggle/blob/master/disaster_kaggle.ipynb\" target=\"_parent\"><img src=\"https://colab.research.google.com/assets/colab-badge.svg\" alt=\"Open In Colab\"/></a>"
      ]
    },
    {
      "cell_type": "code",
      "metadata": {
        "id": "8fUffqiOA_He",
        "colab_type": "code",
        "outputId": "17739af6-31fb-4bae-f7b3-ad4ffe9420f4",
        "colab": {
          "base_uri": "https://localhost:8080/",
          "height": 245
        }
      },
      "source": [
        "!pip install demoji"
      ],
      "execution_count": 2,
      "outputs": [
        {
          "output_type": "stream",
          "text": [
            "Collecting demoji\n",
            "  Downloading https://files.pythonhosted.org/packages/da/0b/d008f26ebbfd86d21117267e627f2f7359c76e5ecbeba08d8f631f4092c4/demoji-0.2.1-py2.py3-none-any.whl\n",
            "Requirement already satisfied: requests<3.0.0 in /usr/local/lib/python3.6/dist-packages (from demoji) (2.23.0)\n",
            "Collecting colorama\n",
            "  Downloading https://files.pythonhosted.org/packages/c9/dc/45cdef1b4d119eb96316b3117e6d5708a08029992b2fee2c143c7a0a5cc5/colorama-0.4.3-py2.py3-none-any.whl\n",
            "Requirement already satisfied: setuptools in /usr/local/lib/python3.6/dist-packages (from demoji) (46.3.0)\n",
            "Requirement already satisfied: idna<3,>=2.5 in /usr/local/lib/python3.6/dist-packages (from requests<3.0.0->demoji) (2.9)\n",
            "Requirement already satisfied: chardet<4,>=3.0.2 in /usr/local/lib/python3.6/dist-packages (from requests<3.0.0->demoji) (3.0.4)\n",
            "Requirement already satisfied: urllib3!=1.25.0,!=1.25.1,<1.26,>=1.21.1 in /usr/local/lib/python3.6/dist-packages (from requests<3.0.0->demoji) (1.24.3)\n",
            "Requirement already satisfied: certifi>=2017.4.17 in /usr/local/lib/python3.6/dist-packages (from requests<3.0.0->demoji) (2020.4.5.1)\n",
            "Installing collected packages: colorama, demoji\n",
            "Successfully installed colorama-0.4.3 demoji-0.2.1\n"
          ],
          "name": "stdout"
        }
      ]
    },
    {
      "cell_type": "code",
      "metadata": {
        "id": "HE2qqnIXIOP3",
        "colab_type": "code",
        "colab": {
          "base_uri": "https://localhost:8080/",
          "height": 72
        },
        "outputId": "f8acabbd-348e-4fe7-93e0-0a185b86d6be"
      },
      "source": [
        "import pandas as pd\n",
        "import numpy as np\n",
        "import matplotlib.pyplot as plt\n",
        "import demoji\n",
        "import re\n",
        "import string\n",
        "from tensorflow import keras\n",
        "import seaborn as sns\n",
        "from keras.preprocessing.text import Tokenizer\n",
        "from keras.preprocessing.sequence import pad_sequences\n",
        "from keras.models import Sequential\n",
        "from keras.layers import Dense,LSTM,Embedding,Bidirectional,Dropout,SpatialDropout1D"
      ],
      "execution_count": 9,
      "outputs": [
        {
          "output_type": "stream",
          "text": [
            "/usr/local/lib/python3.6/dist-packages/statsmodels/tools/_testing.py:19: FutureWarning: pandas.util.testing is deprecated. Use the functions in the public API at pandas.testing instead.\n",
            "  import pandas.util.testing as tm\n"
          ],
          "name": "stderr"
        }
      ]
    },
    {
      "cell_type": "code",
      "metadata": {
        "id": "gutWHRt7IHkV",
        "colab_type": "code",
        "colab": {}
      },
      "source": [
        "def clean_tweets(tweet):\n",
        "  #convert to lower case\n",
        "  tweet = tweet.strip().lower()\n",
        "  #remove http links\n",
        "  tweet = re.sub('https?://\\S+','',tweet)\n",
        "  #remove html tags\n",
        "  tweet = re.sub('<.*?>','',tweet)\n",
        "  #remove hashtags\n",
        "  tweet = re.sub('#','',tweet)\n",
        "  return tweet"
      ],
      "execution_count": 0,
      "outputs": []
    },
    {
      "cell_type": "code",
      "metadata": {
        "id": "1MsjFU21AWl_",
        "colab_type": "code",
        "outputId": "77e7d0b6-8b73-4d54-a521-9b68a1ab8344",
        "colab": {
          "base_uri": "https://localhost:8080/",
          "height": 156
        }
      },
      "source": [
        "tweets_train = pd.read_csv('train.csv')\n",
        "tweets_test = pd.read_csv('test.csv')\n",
        "print(tweets_train.head())"
      ],
      "execution_count": 6,
      "outputs": [
        {
          "output_type": "stream",
          "text": [
            "   id keyword  ...                                               text target\n",
            "0   1     NaN  ...  Our Deeds are the Reason of this #earthquake M...      1\n",
            "1   4     NaN  ...             Forest fire near La Ronge Sask. Canada      1\n",
            "2   5     NaN  ...  All residents asked to 'shelter in place' are ...      1\n",
            "3   6     NaN  ...  13,000 people receive #wildfires evacuation or...      1\n",
            "4   7     NaN  ...  Just got sent this photo from Ruby #Alaska as ...      1\n",
            "\n",
            "[5 rows x 5 columns]\n"
          ],
          "name": "stdout"
        }
      ]
    },
    {
      "cell_type": "code",
      "metadata": {
        "id": "gpy_Ln_KA4T2",
        "colab_type": "code",
        "outputId": "d39451b3-36a5-49dc-e919-e1faf9beb0f2",
        "colab": {
          "base_uri": "https://localhost:8080/",
          "height": 52
        }
      },
      "source": [
        "print(\"total no. of training samples:\",len(tweets_train))\n",
        "print(\"total np. of testing samples:\",len(tweets_test))"
      ],
      "execution_count": 7,
      "outputs": [
        {
          "output_type": "stream",
          "text": [
            "total no. of training samples: 7613\n",
            "total np. of testing samples: 3263\n"
          ],
          "name": "stdout"
        }
      ]
    },
    {
      "cell_type": "code",
      "metadata": {
        "id": "UaQbbdYmBVpA",
        "colab_type": "code",
        "outputId": "3776705c-ac00-4cba-fa69-ad1e6db5dd08",
        "colab": {
          "base_uri": "https://localhost:8080/",
          "height": 296
        }
      },
      "source": [
        "#check class distribution\n",
        "class_dist = tweets_train['target'].value_counts()\n",
        "sns.barplot(class_dist.index,class_dist)\n",
        "plt.gca().set_xlabel('target')\n",
        "plt.gca().set_ylabel('counts')"
      ],
      "execution_count": 10,
      "outputs": [
        {
          "output_type": "execute_result",
          "data": {
            "text/plain": [
              "Text(0, 0.5, 'counts')"
            ]
          },
          "metadata": {
            "tags": []
          },
          "execution_count": 10
        },
        {
          "output_type": "display_data",
          "data": {
            "image/png": "[encoded data removed]",
            "text/plain": [
              "<Figure size 432x288 with 1 Axes>"
            ]
          },
          "metadata": {
            "tags": [],
            "needs_background": "light"
          }
        }
      ]
    },
    {
      "cell_type": "code",
      "metadata": {
        "id": "IfG8CNowEawq",
        "colab_type": "code",
        "outputId": "711be759-e1e9-4b38-a3f5-4e5fb8daef39",
        "colab": {
          "base_uri": "https://localhost:8080/",
          "height": 156
        }
      },
      "source": [
        "tweets_train['cleaned_text'] = tweets_train['text'].apply(clean_tweets)\n",
        "print(tweets_train.head(5))"
      ],
      "execution_count": 11,
      "outputs": [
        {
          "output_type": "stream",
          "text": [
            "   id keyword  ... target                                       cleaned_text\n",
            "0   1     NaN  ...      1  our deeds are the reason of this earthquake ma...\n",
            "1   4     NaN  ...      1             forest fire near la ronge sask. canada\n",
            "2   5     NaN  ...      1  all residents asked to 'shelter in place' are ...\n",
            "3   6     NaN  ...      1  13,000 people receive wildfires evacuation ord...\n",
            "4   7     NaN  ...      1  just got sent this photo from ruby alaska as s...\n",
            "\n",
            "[5 rows x 6 columns]\n"
          ],
          "name": "stdout"
        }
      ]
    },
    {
      "cell_type": "code",
      "metadata": {
        "id": "E1F4Nlr9JAOe",
        "colab_type": "code",
        "outputId": "b7eb5e2c-6393-4f70-ec7e-c48e31143f92",
        "colab": {
          "base_uri": "https://localhost:8080/",
          "height": 86
        }
      },
      "source": [
        "demoji.download_codes()"
      ],
      "execution_count": 12,
      "outputs": [
        {
          "output_type": "stream",
          "text": [
            "Downloading emoji data ...\n",
            "... OK (Got response in 0.27 seconds)\n",
            "Writing emoji data to /root/.demoji/codes.json ...\n",
            "... OK\n"
          ],
          "name": "stdout"
        }
      ]
    },
    {
      "cell_type": "code",
      "metadata": {
        "id": "LO3Nf8IWJS_k",
        "colab_type": "code",
        "outputId": "dfa05331-72ad-4602-9c0f-5a2167c70c6f",
        "colab": {
          "base_uri": "https://localhost:8080/",
          "height": 104
        }
      },
      "source": [
        "#example use of demoji\n",
        "tweet = \"\"\"\\\n",
        "... #startspreadingthenews yankees win great start by 🎅🏾 going 5strong innings with 5k’s🔥 🐂\n",
        "... solo homerun 🌋🌋 with 2 solo homeruns and👹 3run homerun… 🤡 🚣🏼 👨🏽‍⚖️ with rbi’s … 🔥🔥\n",
        "... 🇲🇽 and 🇳🇮 to close the game🔥🔥!!!….\n",
        "... WHAT A GAME!!..\n",
        "... \"\"\"\n",
        "demoji.findall(tweet)\n",
        "tweet = demoji.replace(tweet,'')\n",
        "print(tweet)"
      ],
      "execution_count": 13,
      "outputs": [
        {
          "output_type": "stream",
          "text": [
            "... #startspreadingthenews yankees win great start by  going 5strong innings with 5k’s \n",
            "... solo homerun  with 2 solo homeruns and 3run homerun…    with rbi’s … \n",
            "...  and  to close the game!!!….\n",
            "... WHAT A GAME!!..\n",
            "... \n"
          ],
          "name": "stdout"
        }
      ]
    },
    {
      "cell_type": "code",
      "metadata": {
        "id": "e5AKOoOiJWCc",
        "colab_type": "code",
        "colab": {}
      },
      "source": [
        "def remove_emojis(tweet):\n",
        "  tweet = demoji.replace(tweet,'')\n",
        "  return tweet"
      ],
      "execution_count": 0,
      "outputs": []
    },
    {
      "cell_type": "code",
      "metadata": {
        "id": "Z7KVr661JutT",
        "colab_type": "code",
        "outputId": "6f402325-59e3-475e-a704-8ca66a63e33b",
        "colab": {
          "base_uri": "https://localhost:8080/",
          "height": 104
        }
      },
      "source": [
        "tweets_train['cleaned_text'] = tweets_train['cleaned_text'].apply(remove_emojis)\n",
        "print(tweets_train.head(2))"
      ],
      "execution_count": 15,
      "outputs": [
        {
          "output_type": "stream",
          "text": [
            "   id keyword  ... target                                       cleaned_text\n",
            "0   1     NaN  ...      1  our deeds are the reason of this earthquake ma...\n",
            "1   4     NaN  ...      1             forest fire near la ronge sask. canada\n",
            "\n",
            "[2 rows x 6 columns]\n"
          ],
          "name": "stdout"
        }
      ]
    },
    {
      "cell_type": "code",
      "metadata": {
        "id": "QXTew1ojJ41M",
        "colab_type": "code",
        "colab": {}
      },
      "source": [
        "#remove punctuations\n",
        "#reference: https://stackoverflow.com/questions/34293875/how-to-remove-punctuation-marks-from-a-string-in-python-3-x-using-translate\n",
        "def remove_punctuation(tweet): \n",
        "    # punctuation marks \n",
        "    translator = str.maketrans('','',string.punctuation)\n",
        "    return tweet.translate(translator)"
      ],
      "execution_count": 0,
      "outputs": []
    },
    {
      "cell_type": "code",
      "metadata": {
        "id": "W5chqUWKLJUy",
        "colab_type": "code",
        "outputId": "4dc82746-5016-4d26-c41d-6d1b38ebd974",
        "colab": {
          "base_uri": "https://localhost:8080/",
          "height": 104
        }
      },
      "source": [
        "tweets_train['cleaned_text'] = tweets_train['cleaned_text'].apply(remove_punctuation)\n",
        "print(tweets_train.head(2))"
      ],
      "execution_count": 17,
      "outputs": [
        {
          "output_type": "stream",
          "text": [
            "   id keyword  ... target                                       cleaned_text\n",
            "0   1     NaN  ...      1  our deeds are the reason of this earthquake ma...\n",
            "1   4     NaN  ...      1              forest fire near la ronge sask canada\n",
            "\n",
            "[2 rows x 6 columns]\n"
          ],
          "name": "stdout"
        }
      ]
    },
    {
      "cell_type": "code",
      "metadata": {
        "id": "D83od3WGP97X",
        "colab_type": "code",
        "outputId": "13298feb-bff4-4545-9a9d-e2377bff2c94",
        "colab": {
          "base_uri": "https://localhost:8080/",
          "height": 52
        }
      },
      "source": [
        "#create training set\n",
        "import nltk\n",
        "nltk.download('stopwords')\n",
        "from nltk.corpus import stopwords\n",
        "stopword = stopwords.words('english')\n",
        "data = []\n",
        "for tweet in tweets_train['cleaned_text']:\n",
        "  words = tweet.split()\n",
        "  temp = [word for word in words if word not in stopword and word.isalpha()==1]\n",
        "  data.append(\" \".join(temp))"
      ],
      "execution_count": 18,
      "outputs": [
        {
          "output_type": "stream",
          "text": [
            "[nltk_data] Downloading package stopwords to /root/nltk_data...\n",
            "[nltk_data]   Unzipping corpora/stopwords.zip.\n"
          ],
          "name": "stdout"
        }
      ]
    },
    {
      "cell_type": "code",
      "metadata": {
        "id": "_4gj-o9nX4o_",
        "colab_type": "code",
        "outputId": "650db674-1c27-4a2e-ad42-5c57487df033",
        "colab": {
          "base_uri": "https://localhost:8080/",
          "height": 34
        }
      },
      "source": [
        "print(len(data))"
      ],
      "execution_count": 19,
      "outputs": [
        {
          "output_type": "stream",
          "text": [
            "7613\n"
          ],
          "name": "stdout"
        }
      ]
    },
    {
      "cell_type": "code",
      "metadata": {
        "id": "Tth8fQ3Pc2QF",
        "colab_type": "code",
        "outputId": "63198f92-874a-4398-dc0e-15b3c6e405f1",
        "colab": {
          "base_uri": "https://localhost:8080/",
          "height": 34
        }
      },
      "source": [
        "labels = tweets_train['target'].values\n",
        "print(len(labels))"
      ],
      "execution_count": 20,
      "outputs": [
        {
          "output_type": "stream",
          "text": [
            "7613\n"
          ],
          "name": "stdout"
        }
      ]
    },
    {
      "cell_type": "code",
      "metadata": {
        "id": "e2wp6EmAhHZg",
        "colab_type": "code",
        "outputId": "9b834e70-59ea-47e1-893b-d25390b7cf87",
        "colab": {
          "base_uri": "https://localhost:8080/",
          "height": 34
        }
      },
      "source": [
        "tokenizer = Tokenizer()\n",
        "tokenizer.fit_on_texts(data)\n",
        "word_to_index = tokenizer.word_index\n",
        "vocab_size = len(word_to_index)\n",
        "print('total no. of words:',vocab_size)"
      ],
      "execution_count": 21,
      "outputs": [
        {
          "output_type": "stream",
          "text": [
            "total no. of words: 16117\n"
          ],
          "name": "stdout"
        }
      ]
    },
    {
      "cell_type": "code",
      "metadata": {
        "id": "Jn_ZriWShy1S",
        "colab_type": "code",
        "outputId": "68b7070a-ab79-478c-91b3-08d2de47521a",
        "colab": {
          "base_uri": "https://localhost:8080/",
          "height": 34
        }
      },
      "source": [
        "#convert text to sequence of tokens\n",
        "sequences = tokenizer.texts_to_sequences(data)\n",
        "max_len = max([len(s) for s in sequences])\n",
        "print('max sequence length =',max_len)\n",
        "#pad the sequences\n",
        "padded_sequences =  pad_sequences(sequences,maxlen=max_len,padding='post')"
      ],
      "execution_count": 60,
      "outputs": [
        {
          "output_type": "stream",
          "text": [
            "max sequence length = 23\n"
          ],
          "name": "stdout"
        }
      ]
    },
    {
      "cell_type": "code",
      "metadata": {
        "id": "kJsb6V37iipI",
        "colab_type": "code",
        "colab": {}
      },
      "source": [
        "def load_glove(path):\n",
        "  word_to_embedding = {}\n",
        "  with open(path) as fh:\n",
        "    for line in fh:\n",
        "      line = line.strip().split()\n",
        "      word = line[0]\n",
        "      word_to_embedding[word] = np.array(line[1:],dtype = 'float32')\n",
        "  return word_to_embedding"
      ],
      "execution_count": 0,
      "outputs": []
    },
    {
      "cell_type": "code",
      "metadata": {
        "id": "r0A0PmG6oBsO",
        "colab_type": "code",
        "outputId": "a7cce4e9-9af7-480f-8ee1-f8ea573b2f47",
        "colab": {
          "base_uri": "https://localhost:8080/",
          "height": 34
        }
      },
      "source": [
        "word_to_embedding = load_glove('drive/My Drive/glove.6B.50d.txt')\n",
        "print(len(word_to_embedding))"
      ],
      "execution_count": 24,
      "outputs": [
        {
          "output_type": "stream",
          "text": [
            "400000\n"
          ],
          "name": "stdout"
        }
      ]
    },
    {
      "cell_type": "code",
      "metadata": {
        "id": "lY-c603sobFp",
        "colab_type": "code",
        "colab": {}
      },
      "source": [
        "#create embedding matrix\n",
        "def create_embedding(word_to_embedding,vocab_size,word_index,embed_dim):\n",
        "  embeddings = np.zeros((vocab_size+1,embed_dim))\n",
        "  for word,idx in word_index.items():\n",
        "    embed_vec = word_to_embedding.get(word)\n",
        "    if embed_vec is not None:\n",
        "      embeddings[idx,:] = embed_vec\n",
        "  return embeddings"
      ],
      "execution_count": 0,
      "outputs": []
    },
    {
      "cell_type": "code",
      "metadata": {
        "id": "2dcgOGHsrXRl",
        "colab_type": "code",
        "outputId": "3c266254-80af-4884-ef4f-0c85596ceba2",
        "colab": {
          "base_uri": "https://localhost:8080/",
          "height": 34
        }
      },
      "source": [
        "embed_dim = 50\n",
        "embed_matrix = create_embedding(word_to_embedding,vocab_size,word_to_index,embed_dim)\n",
        "print(embed_matrix.shape)"
      ],
      "execution_count": 26,
      "outputs": [
        {
          "output_type": "stream",
          "text": [
            "(16118, 50)\n"
          ],
          "name": "stdout"
        }
      ]
    },
    {
      "cell_type": "code",
      "metadata": {
        "id": "2FZVj5NJr0ZX",
        "colab_type": "code",
        "colab": {}
      },
      "source": [
        "model = Sequential([\n",
        "  Embedding(input_dim=vocab_size+1,output_dim=embed_dim,input_length=max_len,weights=[embed_matrix],trainable=False),\n",
        "  SpatialDropout1D(0.2),\n",
        "  Bidirectional(LSTM(64,dropout=0.3,recurrent_dropout=0.3,return_sequences=True)),\n",
        "  Bidirectional(LSTM(32,dropout=0.2,recurrent_dropout=0.2)),\n",
        "  Dense(64,activation='relu'),\n",
        "  Dense(1,activation='sigmoid')\n",
        "])\n",
        "opt = keras.optimizers.Adam(learning_rate=0.01,decay=0.0001)\n",
        "model.compile(optimizer=opt,loss='binary_crossentropy',metrics=['accuracy'])"
      ],
      "execution_count": 0,
      "outputs": []
    },
    {
      "cell_type": "code",
      "metadata": {
        "id": "-I5lt5F6HcBt",
        "colab_type": "code",
        "colab": {
          "base_uri": "https://localhost:8080/",
          "height": 364
        },
        "outputId": "d3cfe7d3-6cdd-43be-f9e1-e0421fccfb8b"
      },
      "source": [
        "model.summary()"
      ],
      "execution_count": 59,
      "outputs": [
        {
          "output_type": "stream",
          "text": [
            "Model: \"sequential_3\"\n",
            "_________________________________________________________________\n",
            "Layer (type)                 Output Shape              Param #   \n",
            "=================================================================\n",
            "embedding_3 (Embedding)      (None, 23, 50)            805900    \n",
            "_________________________________________________________________\n",
            "spatial_dropout1d_3 (Spatial (None, 23, 50)            0         \n",
            "_________________________________________________________________\n",
            "bidirectional_3 (Bidirection (None, 23, 128)           58880     \n",
            "_________________________________________________________________\n",
            "bidirectional_4 (Bidirection (None, 64)                41216     \n",
            "_________________________________________________________________\n",
            "dense_3 (Dense)              (None, 64)                4160      \n",
            "_________________________________________________________________\n",
            "dense_4 (Dense)              (None, 1)                 65        \n",
            "=================================================================\n",
            "Total params: 910,221\n",
            "Trainable params: 104,321\n",
            "Non-trainable params: 805,900\n",
            "_________________________________________________________________\n"
          ],
          "name": "stdout"
        }
      ]
    },
    {
      "cell_type": "code",
      "metadata": {
        "id": "Fw_z-fjVHgkC",
        "colab_type": "code",
        "colab": {
          "base_uri": "https://localhost:8080/",
          "height": 52
        },
        "outputId": "f1ceefc3-1312-476c-f595-87fe900f9106"
      },
      "source": [
        "from sklearn.model_selection import train_test_split\n",
        "X_train,X_test,y_train,y_test = train_test_split(padded_sequences,labels,test_size=0.15,random_state=1)\n",
        "print('training size:',len(X_train))\n",
        "print('validation_size:',len(X_test))"
      ],
      "execution_count": 61,
      "outputs": [
        {
          "output_type": "stream",
          "text": [
            "training size: 6471\n",
            "validation_size: 1142\n"
          ],
          "name": "stdout"
        }
      ]
    },
    {
      "cell_type": "code",
      "metadata": {
        "id": "pxi_0Ma1IOuO",
        "colab_type": "code",
        "colab": {
          "base_uri": "https://localhost:8080/",
          "height": 506
        },
        "outputId": "dd3b3d05-e80b-4f0c-fdc3-215e63ebf0a1"
      },
      "source": [
        "early = keras.callbacks.EarlyStopping(monitor='val_accuracy',patience=3)\n",
        "history = model.fit(X_train,y_train,epochs=15,validation_data=(X_test,y_test),batch_size=64,callbacks=[early])"
      ],
      "execution_count": 63,
      "outputs": [
        {
          "output_type": "stream",
          "text": [
            "Train on 6471 samples, validate on 1142 samples\n",
            "Epoch 1/15\n",
            "6471/6471 [==============================] - 19s 3ms/step - loss: 0.4337 - accuracy: 0.8061 - val_loss: 0.4499 - val_accuracy: 0.7890\n",
            "Epoch 2/15\n",
            "6471/6471 [==============================] - 19s 3ms/step - loss: 0.4295 - accuracy: 0.8107 - val_loss: 0.4573 - val_accuracy: 0.8012\n",
            "Epoch 3/15\n",
            "6471/6471 [==============================] - 19s 3ms/step - loss: 0.4221 - accuracy: 0.8125 - val_loss: 0.4643 - val_accuracy: 0.7995\n",
            "Epoch 4/15\n",
            "6471/6471 [==============================] - 19s 3ms/step - loss: 0.4139 - accuracy: 0.8142 - val_loss: 0.4381 - val_accuracy: 0.7986\n",
            "Epoch 5/15\n",
            "6471/6471 [==============================] - 19s 3ms/step - loss: 0.4182 - accuracy: 0.8141 - val_loss: 0.4421 - val_accuracy: 0.8021\n",
            "Epoch 6/15\n",
            "6471/6471 [==============================] - 18s 3ms/step - loss: 0.4043 - accuracy: 0.8209 - val_loss: 0.4427 - val_accuracy: 0.8021\n",
            "Epoch 7/15\n",
            "6471/6471 [==============================] - 18s 3ms/step - loss: 0.4074 - accuracy: 0.8181 - val_loss: 0.4511 - val_accuracy: 0.8074\n",
            "Epoch 8/15\n",
            "6471/6471 [==============================] - 18s 3ms/step - loss: 0.3960 - accuracy: 0.8209 - val_loss: 0.4828 - val_accuracy: 0.7960\n",
            "Epoch 9/15\n",
            "6471/6471 [==============================] - 18s 3ms/step - loss: 0.4044 - accuracy: 0.8204 - val_loss: 0.4418 - val_accuracy: 0.8021\n",
            "Epoch 10/15\n",
            "6471/6471 [==============================] - 19s 3ms/step - loss: 0.4087 - accuracy: 0.8175 - val_loss: 0.4449 - val_accuracy: 0.8144\n",
            "Epoch 11/15\n",
            "6471/6471 [==============================] - 19s 3ms/step - loss: 0.3982 - accuracy: 0.8249 - val_loss: 0.4682 - val_accuracy: 0.7942\n",
            "Epoch 12/15\n",
            "6471/6471 [==============================] - 19s 3ms/step - loss: 0.3919 - accuracy: 0.8241 - val_loss: 0.4682 - val_accuracy: 0.8047\n",
            "Epoch 13/15\n",
            "6471/6471 [==============================] - 19s 3ms/step - loss: 0.3940 - accuracy: 0.8235 - val_loss: 0.4507 - val_accuracy: 0.7995\n"
          ],
          "name": "stdout"
        }
      ]
    },
    {
      "cell_type": "code",
      "metadata": {
        "id": "tetiDNciIoTH",
        "colab_type": "code",
        "colab": {
          "base_uri": "https://localhost:8080/",
          "height": 139
        },
        "outputId": "137a736b-2ca4-407e-d1c7-2a71682198a2"
      },
      "source": [
        "test_data = pd.read_csv('test.csv')\n",
        "print(test_data.head())\n",
        "print(len(test_data))"
      ],
      "execution_count": 49,
      "outputs": [
        {
          "output_type": "stream",
          "text": [
            "   id keyword location                                               text\n",
            "0   0     NaN      NaN                 Just happened a terrible car crash\n",
            "1   2     NaN      NaN  Heard about #earthquake is different cities, s...\n",
            "2   3     NaN      NaN  there is a forest fire at spot pond, geese are...\n",
            "3   9     NaN      NaN           Apocalypse lighting. #Spokane #wildfires\n",
            "4  11     NaN      NaN      Typhoon Soudelor kills 28 in China and Taiwan\n",
            "3263\n"
          ],
          "name": "stdout"
        }
      ]
    },
    {
      "cell_type": "code",
      "metadata": {
        "id": "FDLmVIdbLZte",
        "colab_type": "code",
        "colab": {
          "base_uri": "https://localhost:8080/",
          "height": 34
        },
        "outputId": "4a165588-db23-45c3-db43-d403ce491e18"
      },
      "source": [
        "test_data['text'] = test_data['text'].apply(clean_tweets)\n",
        "test_data['text'] = test_data['text'].apply(remove_emojis)\n",
        "test_data['text'] = test_data['text'].apply(remove_punctuation)\n",
        "data_test = []\n",
        "for tweet in test_data['text']:\n",
        "  words = tweet.split()\n",
        "  temp = [word for word in words if word not in stopword and word.isalpha()==1]\n",
        "  data_test.append(\" \".join(temp))\n",
        "test_sequences = tokenizer.texts_to_sequences(data_test)\n",
        "test_max_len = max([len(s) for s in test_sequences])\n",
        "print('max sequence length =',test_max_len)\n",
        "#pad the sequences\n",
        "test_padded_sequences =  pad_sequences(test_sequences,maxlen=max_len,padding='post')"
      ],
      "execution_count": 64,
      "outputs": [
        {
          "output_type": "stream",
          "text": [
            "max sequence length = 18\n"
          ],
          "name": "stdout"
        }
      ]
    },
    {
      "cell_type": "code",
      "metadata": {
        "id": "KYQSzY5FMuxs",
        "colab_type": "code",
        "colab": {}
      },
      "source": [
        "predictions = model.predict(test_padded_sequences)"
      ],
      "execution_count": 0,
      "outputs": []
    },
    {
      "cell_type": "code",
      "metadata": {
        "id": "gpBkUkLNM3m5",
        "colab_type": "code",
        "colab": {}
      },
      "source": [
        "predictions = np.round(predictions).astype(int).reshape(3263)\n",
        "#print(predictions)\n",
        "submission = pd.DataFrame({'id':test_data['id'].values.tolist(),'target':predictions})\n",
        "submission.to_csv('submission3.csv',index=False)"
      ],
      "execution_count": 0,
      "outputs": []
    },
    {
      "cell_type": "code",
      "metadata": {
        "id": "E2Zf2Q8hM50a",
        "colab_type": "code",
        "colab": {
          "base_uri": "https://localhost:8080/",
          "height": 282
        },
        "outputId": "728f3b56-065a-43f0-d2f0-ab4c10770b9b"
      },
      "source": [
        "acc = history.history['accuracy']\n",
        "val_acc = history.history['val_accuracy']\n",
        "plt.plot(acc)\n",
        "plt.plot(val_acc)"
      ],
      "execution_count": 67,
      "outputs": [
        {
          "output_type": "execute_result",
          "data": {
            "text/plain": [
              "[<matplotlib.lines.Line2D at 0x7fb06b793ba8>]"
            ]
          },
          "metadata": {
            "tags": []
          },
          "execution_count": 67
        },
        {
          "output_type": "display_data",
          "data": {
            "image/png": "[encoded data removed]",
            "text/plain": [
              "<Figure size 432x288 with 1 Axes>"
            ]
          },
          "metadata": {
            "tags": [],
            "needs_background": "light"
          }
        }
      ]
    },
    {
      "cell_type": "code",
      "metadata": {
        "id": "oMsn0sShVfh3",
        "colab_type": "code",
        "colab": {}
      },
      "source": [
        ""
      ],
      "execution_count": 0,
      "outputs": []
    }
  ]
}